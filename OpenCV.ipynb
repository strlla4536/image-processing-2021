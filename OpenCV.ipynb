{
 "cells": [
  {
   "cell_type": "code",
   "execution_count": 2,
   "metadata": {},
   "outputs": [],
   "source": [
    "import cv2 \n",
    "import numpy as np #행렬연산\n",
    "from math import acos, pi, sqrt"
   ]
  },
  {
   "cell_type": "code",
   "execution_count": null,
   "metadata": {},
   "outputs": [],
   "source": [
    "src = cv2.imread('sample.jpg', cv2.IMREAD_COLOR) \n",
    "\n",
    "#RGB 이미지를 HSI로 한 번에 바꿔주는 함수 이용\n",
    "\n",
    "hsv = cv2.cvtColor(src, cv2.COLOR_BGR2HSV)\n",
    "h, s, v = cv2.split(hsv)\n",
    "\n",
    "width, height, channel = src.shape[0], src.shape[1], src.shape[2]\n",
    "dst = np.zeros((width, height, channel))\n",
    "\n",
    "for i in range(width):\n",
    "    for j in range(height):\n",
    "        if h[i][j] > 120 and h[i][j]<130:\n",
    "            dst[i][j] = src[i][j]\n",
    "            \n",
    "\n",
    "cv2.imshow(\"source\", src)\n",
    "cv2.imshow(\"h\",h)\n",
    "cv2.imshow(\"s\",s)\n",
    "cv2.imshow(\"v\",v)\n",
    "cv2.imshow(\"dst\", dst)\n",
    "cv2.waitKey(0)\n",
    "cv2.destroyAllWindows()"
   ]
  },
  {
   "cell_type": "code",
   "execution_count": null,
   "metadata": {},
   "outputs": [],
   "source": [
    "#B,G,R\n",
    "def compute_Hue (B,G,R):\n",
    "    angle = 0\n",
    "    if B != G != R:\n",
    "        angle = 0.5*((R-G)+(R-B)) / sqrt((R-G)*(R-G) + (R-B)*(G-B))\n",
    "    return acos(angle) if B<=G else (2*pi - acos(angle))"
   ]
  },
  {
   "cell_type": "code",
   "execution_count": null,
   "metadata": {},
   "outputs": [],
   "source": [
    "src = cv2.imread('sample', cv2.IMREAD_COLOR)\n",
    "height, width = src.shape[0], src.shape[1]\n",
    "\n",
    "I = np.zeros((height,width))\n",
    "S = np.zeros((height,width))\n",
    "H = np.zeros((height,width))\n",
    "\n",
    "\n",
    "#원본이미지의 픽셀 단위로 접근\n",
    "for i in range(height):\n",
    "    for j in range(width):\n",
    "        B,G,R = src[i][j][0]/255, src[i][j][1]/255, src[i][j][2]/255 \n",
    "        \n",
    "        I[i][j] = (B+G+R)/3\n",
    "        if B+G+R != 0:\n",
    "            S[i][j] = 1- 3*np.min([B,G,R])/(B+G+R)\n",
    "        H[i][j] = compute_Hue(B, G, R)\n",
    "        \n",
    "dst = np.zeros((height, width, 3), dtype = np.uint8) #피부색이 있는 부분만을 마킹할 배열 새로 만듦\n",
    "\n",
    "for i in range(height):\n",
    "    for j in range(width):\n",
    "        if H[i][j] >= 0 and H[i][j] <=3.28: #사진에 따라 피부색 나타내는 Hue 값 달라질 수 있음\n",
    "            dst[i][j] = src[i][j]\n",
    "            \n",
    "cv2.imshow(\"dst\", dst)\n",
    "cv2.imshow(\"src\", src)\n",
    "cv2.waitKey(0)\n",
    "cv2.destroyAllWindows()"
   ]
  },
  {
   "cell_type": "code",
   "execution_count": null,
   "metadata": {},
   "outputs": [],
   "source": []
  }
 ],
 "metadata": {
  "kernelspec": {
   "display_name": "Python 3",
   "language": "python",
   "name": "python3"
  },
  "language_info": {
   "codemirror_mode": {
    "name": "ipython",
    "version": 3
   },
   "file_extension": ".py",
   "mimetype": "text/x-python",
   "name": "python",
   "nbconvert_exporter": "python",
   "pygments_lexer": "ipython3",
   "version": "3.8.5"
  }
 },
 "nbformat": 4,
 "nbformat_minor": 4
}
