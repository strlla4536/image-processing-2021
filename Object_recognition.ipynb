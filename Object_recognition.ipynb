{
  "nbformat": 4,
  "nbformat_minor": 0,
  "metadata": {
    "colab": {
      "name": "Object recognition",
      "provenance": [],
      "authorship_tag": "ABX9TyMGg+rNhB6WnH9jqbpkNQzp",
      "include_colab_link": true
    },
    "kernelspec": {
      "name": "python3",
      "display_name": "Python 3"
    },
    "language_info": {
      "name": "python"
    }
  },
  "cells": [
    {
      "cell_type": "markdown",
      "metadata": {
        "id": "view-in-github",
        "colab_type": "text"
      },
      "source": [
        "<a href=\"https://colab.research.google.com/github/strlla4536/image-processing-2021/blob/main/Object_recognition.ipynb\" target=\"_parent\"><img src=\"https://colab.research.google.com/assets/colab-badge.svg\" alt=\"Open In Colab\"/></a>"
      ]
    },
    {
      "cell_type": "code",
      "metadata": {
        "colab": {
          "base_uri": "https://localhost:8080/",
          "height": 244
        },
        "id": "JrPIQFQHvU89",
        "outputId": "f4d51625-60c7-46f9-bece-c57f55fe53e5"
      },
      "source": [
        "import cv2\n",
        "import cv2.cv2\n",
        "import numpy as np\n",
        "\n",
        "vidcap = cv2.VideoCapture('Project-hand-gesture.mp4')\n",
        "success, image = vidcap.read()\n",
        "\n",
        "count = 0\n",
        "success = True\n",
        "\n",
        "while success:\n",
        "    ret, frame = vidcap.read()\n",
        "    cv2.imwirte(\"hand gesture %d.jpg\" % count, frame)\n",
        "    print(\"saved frame : %d.jpg\" % count)\n",
        "    \n",
        "    if cv2.waitKey(10) == 27:\n",
        "        break\n",
        "    count += 1\n",
        "        \n",
        "vidcap.release()\n",
        "\n",
        "\n",
        "while True:\n",
        "    ret, frame = vidcap.read()\n",
        "    \n",
        "    #RGB -> YCrCb\n",
        "    YCrCb = cv2.cvtColor(frame, cv2.COLOR_BGR2YCrCb)\n",
        "    #피부 검출하기\n",
        "    mask_hand = cv2.inRange(YCrCb, np.array([0, 133, 77], np.array[255,173,127]))\n",
        "    mask_color = cv2.bitwise_and(frame, frame, mask = mask_hand)\n",
        "    \n",
        "    cv2.imshow('Original', frame)\n",
        "    cv2.imshow('Hand', mask_hand)\n",
        "    cv2.imshow('Skin', mask_color)\n",
        "    \n",
        "    if cv2.waitKey(1) &0xFF == 27:\n",
        "        break\n",
        "        \n",
        "cv2.destroyAllWindows()"
      ],
      "execution_count": null,
      "outputs": [
        {
          "output_type": "error",
          "ename": "AttributeError",
          "evalue": "ignored",
          "traceback": [
            "\u001b[0;31m---------------------------------------------------------------------------\u001b[0m",
            "\u001b[0;31mAttributeError\u001b[0m                            Traceback (most recent call last)",
            "\u001b[0;32m<ipython-input-3-ecb4b58f1cb3>\u001b[0m in \u001b[0;36m<module>\u001b[0;34m()\u001b[0m\n\u001b[1;32m     11\u001b[0m \u001b[0;32mwhile\u001b[0m \u001b[0msuccess\u001b[0m\u001b[0;34m:\u001b[0m\u001b[0;34m\u001b[0m\u001b[0;34m\u001b[0m\u001b[0m\n\u001b[1;32m     12\u001b[0m     \u001b[0mret\u001b[0m\u001b[0;34m,\u001b[0m \u001b[0mframe\u001b[0m \u001b[0;34m=\u001b[0m \u001b[0mvidcap\u001b[0m\u001b[0;34m.\u001b[0m\u001b[0mread\u001b[0m\u001b[0;34m(\u001b[0m\u001b[0;34m)\u001b[0m\u001b[0;34m\u001b[0m\u001b[0;34m\u001b[0m\u001b[0m\n\u001b[0;32m---> 13\u001b[0;31m     \u001b[0mcv2\u001b[0m\u001b[0;34m.\u001b[0m\u001b[0mimwirte\u001b[0m\u001b[0;34m(\u001b[0m\u001b[0;34m\"hand gesture %d.jpg\"\u001b[0m \u001b[0;34m%\u001b[0m \u001b[0mcount\u001b[0m\u001b[0;34m,\u001b[0m \u001b[0mframe\u001b[0m\u001b[0;34m)\u001b[0m\u001b[0;34m\u001b[0m\u001b[0;34m\u001b[0m\u001b[0m\n\u001b[0m\u001b[1;32m     14\u001b[0m     \u001b[0mprint\u001b[0m\u001b[0;34m(\u001b[0m\u001b[0;34m\"saved frame : %d.jpg\"\u001b[0m \u001b[0;34m%\u001b[0m \u001b[0mcount\u001b[0m\u001b[0;34m)\u001b[0m\u001b[0;34m\u001b[0m\u001b[0;34m\u001b[0m\u001b[0m\n\u001b[1;32m     15\u001b[0m \u001b[0;34m\u001b[0m\u001b[0m\n",
            "\u001b[0;31mAttributeError\u001b[0m: module 'cv2.cv2' has no attribute 'imwirte'"
          ]
        }
      ]
    }
  ]
}