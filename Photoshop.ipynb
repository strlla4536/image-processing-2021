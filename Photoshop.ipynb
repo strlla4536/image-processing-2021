{
 "cells": [
  {
   "cell_type": "code",
   "execution_count": 37,
   "metadata": {},
   "outputs": [],
   "source": [
    "import cv2\n",
    "import numpy as np\n",
    "from math import acos, pi, sqrt\n",
    "from PIL import Image, ImageTk, ImageFilter, ImageDraw\n",
    "import tkinter as tk\n",
    "from tkinter import filedialog as fd\n",
    "im = None\n",
    "tk_img = None\n",
    "\n",
    "#파일 열기\n",
    "def open() : \n",
    "    global im, tk_img\n",
    "    fname = fd.askopenfilename()\n",
    "    im = Image.open(fname)\n",
    "    tk_img = ImageTk.PhotoImage(im)\n",
    "    canvas.create_image(250, 250, image=tk_img)\n",
    "    window.update()\n",
    "    \n",
    "#프로그램 종료\n",
    "def quit():\n",
    "    window.destroy()\n"
   ]
  },
  {
   "cell_type": "code",
   "execution_count": 38,
   "metadata": {},
   "outputs": [],
   "source": [
    "#Power law\n",
    "def create_power_law():\n",
    "    global im, tk_img\n",
    "    def power_law():\n",
    "        \n",
    "        x1, x2, x3, x4 = int(e1.get()), int(e2.get()), int(e3.get()), int(e4.get())\n",
    "        out = np.array(255*(im/255)**gamma, dtype = 'uint8')\n",
    "        tk_img = Image.Tk.PhotoImage(out)\n",
    "        canvas.create_image(250,250,image=tk_img)\n",
    "        window.update()\n",
    "    def new_quit():\n",
    "        newWindow.destroy()\n",
    "        newWindow = tk.Toplevel(window)\n",
    "        \n",
    "        l1 = tk.Label(newWindow, text = \"gamma 값 : \")\n",
    "        e1 = tk.Entry(newWindow)\n",
    "        b1 = tk.Button(newWindow, text = \"확인\", command = lambda : [text(), new_quit()])\n",
    "    \n",
    "    l1.grid(row = 0, column = 0, columnspan = 2)\n",
    "    e1.grid(row = 0, column = 1, columnspan = 2)\n",
    "    b1.grid(row = 1, column = 0, columnspan = 2)\n",
    "    \n",
    "            "
   ]
  },
  {
   "cell_type": "code",
   "execution_count": 33,
   "metadata": {},
   "outputs": [],
   "source": [
    "#negative\n",
    "def negative():\n",
    "    global im, tk_img\n",
    "    out = 1.0 - (im / 255)\n",
    "    tk_img = Image.Tk.PhotoImage(out)\n",
    "    canvas.create_image(250,250,image=tk_img)\n",
    "    window.update()"
   ]
  },
  {
   "cell_type": "code",
   "execution_count": 27,
   "metadata": {},
   "outputs": [],
   "source": [
    "def equalize_histogram ():\n",
    "    global im, tk_img\n",
    "    equ = cv2.equalizeHist(im)\n",
    "\n",
    "\n",
    "    imgHist = cv2.calcHist(images = [im],\n",
    "                          channels = [0],\n",
    "                          mask = None,\n",
    "                          histSize = [256],\n",
    "                          ranges = [0,256])\n",
    "\n",
    "    equHist = cv2.calcHist(images = [equ],\n",
    "                          channels = [0],\n",
    "                          mask = None,\n",
    "                          histSize = [256],\n",
    "                          ranges = [0,256])\n",
    "\n",
    "    plt.plot(imgHist, color = 'b', label = 'img hist')\n",
    "    plt.plot(equHist, color = 'r', label = 'equ hist')\n",
    "    \n",
    "    tk_img = Image.Tk.PhotoImage(out)\n",
    "    canvas.create_image(250,250,image=tk_img)\n",
    "    window.update()"
   ]
  },
  {
   "cell_type": "code",
   "execution_count": 28,
   "metadata": {},
   "outputs": [],
   "source": [
    "def gaussian_blur():\n",
    "    global im, tk_img\n",
    "    kernel1D = cv2.getGaussianKernel(5,3)\n",
    "    krenel2D = np.outer(kernel1D, kernel1D.transpose())\n",
    "    im_array = np.asarray(im)\n",
    "    blurred_im_array = cv2.filter2D(im_array, -1, kernel2D)\n",
    "    blurred_im = Image.fromarray(blurred_im_array)\n",
    "    \n",
    "    tk_img = Image.Tk.photoImage(blurred_im)\n",
    "    canvas.create_image(250,250, image = tk_img)\n",
    "    window.update()"
   ]
  },
  {
   "cell_type": "code",
   "execution_count": 29,
   "metadata": {},
   "outputs": [],
   "source": [
    "def average_blur():\n",
    "    global im, tk_img\n",
    "    out = cv2.blur(im, (5,5))\n",
    "    tk_img = Image.Tk.PhotoImage(out)\n",
    "    canvas.create_image(250,250,image=tk_img)\n",
    "    window.update()"
   ]
  },
  {
   "cell_type": "code",
   "execution_count": 30,
   "metadata": {},
   "outputs": [],
   "source": [
    "def median_blur():\n",
    "    global im, tk_img\n",
    "    filter_size = (3,3)\n",
    "    stride = 1\n",
    "    img_shape = np.shape(im)\n",
    "    after_shape = tuple(np.int64((np.array(img_shape)-np.array(filter_size))/stride+1))\n",
    "    blurred_im = np.zeros(after_shape)\n",
    "    for h in range(0, after_shape[0], stride):\n",
    "        for w in range(0, after_shape[1], stride):\n",
    "            tmp = im[h:h+filter_size[0],w:w+filter_size[1]]\n",
    "            tmp = np.sort(tmp.ravel())\n",
    "            result[h,w] = tmp[int(filter_size[0]*filter_size[1]/2)]\n",
    "        return result\n",
    "    tk_img = imgae.Tk.photoImage(blurred_im)\n",
    "    canvas.create_image(250,250, image = tk_img)\n",
    "    window.update()"
   ]
  },
  {
   "cell_type": "code",
   "execution_count": 31,
   "metadata": {},
   "outputs": [],
   "source": [
    "#canny 엣지 검출 필터\n",
    "def canny_edge():\n",
    "    global im, tk_img\n",
    "    median_intensity = np.median(im)\n",
    "    lower_threshold = int(max(0, (1.0 - 0.33) * median_intensity))\n",
    "    upper_threshold = int(min(255, (1.0 + 0.33) * median_intensity))\n",
    "    out = cv2.Canny(img, lower_threshold, upper_threshold)\n",
    "    tk_img = ImageTk.PhotoImage(out)\n",
    "    canvas.create_image(250,250,image=tk_img)\n",
    "    window.update()"
   ]
  },
  {
   "cell_type": "code",
   "execution_count": 36,
   "metadata": {},
   "outputs": [],
   "source": [
    "def Prewitt():\n",
    "    global im, tk_img\n",
    "    prewitt_x = np.array([[-1, -1, -1], [0, 0, 0], [1, 1, 1]]) \n",
    "    prewitt_y = np.array([[1, 0, -1], [1, 0, -1], [1, 0, -1]]) \n",
    "    prewitt_x = cv2.convertScaleAbs(cv2.filter2D(im, -1, prewitt_x)) \n",
    "    prewitt_y = cv2.convertScaleAbs(cv2.filter2D(im, -1, prewitt_y)) \n",
    "    prewitt = cv2.addWeighted(prewitt_x, 1, prewitt_y, 1, 0)\n",
    "    tk_img = ImageTk.PhotoImage(prewitt)\n",
    "    canvas.create_image(250,250,image=tk_img)\n",
    "    window.update()\n"
   ]
  },
  {
   "cell_type": "code",
   "execution_count": 39,
   "metadata": {},
   "outputs": [],
   "source": [
    "def Sobel() :\n",
    "    global im, tk_img\n",
    "    sobel_x = np.array([[-1, -2, -1], [0, 0, 0], [1, 2, 1]]) \n",
    "    sobel_y = np.array([[1, 0, -1], [2, 0, -2], [1, 0, -1]])\n",
    "    sobel_x = cv2.convertScaleAbs(cv2.filter2D(im, -1, sobel_x)) \n",
    "    sobel_y = cv2.convertScaleAbs(cv2.filter2D(im, -1, sobel_y))\n",
    "    sobel = cv2.addWeighted(sobel_x, 1, sobel_y, 1, 0)\n",
    "    tk_img = ImageTk.PhotoImage(sobel)\n",
    "    canvas.create_image(250,250,image=tk_img)\n",
    "    window.update()"
   ]
  },
  {
   "cell_type": "code",
   "execution_count": 41,
   "metadata": {},
   "outputs": [],
   "source": [
    "def Roberts():\n",
    "    global im, tk_img\n",
    "    roberts_x = np.array([[-1, 0, 0], [0, 1, 0], [0, 0, 0]]) \n",
    "    roberts_y = np.array([[0, 0, -1], [0, 1, 0], [0, 0, 0]]) \n",
    "    roberts_x = cv2.convertScaleAbs(cv2.filter2D(img, -1, roberts_x)) \n",
    "    roberts_y = cv2.convertScaleAbs(cv2.filter2D(img, -1, roberts_y)) \n",
    "    #robertsx = cv2.filter2D(img, cv2.CV_64F, roberts_x)\n",
    "    #robertsy = cv2.filter2D(img, cv2.CV_64F, roberts_y)\n",
    "    roberts = cv2.addWeighted(roberts_x, 1, roberts_y, 1, 0) \n",
    "    tk_img = ImageTk.PhotoImage(roberts)\n",
    "    canvas.create_image(250,250,image=tk_img)\n",
    "    window.update()\n",
    "    \n",
    "#filter2D : mask 적용 함수. 그레이 스케일에 각각의 공식의 가로와 세로 공식에 맞게 적용\n",
    "#convertScaleAbs : 각각의 값을 절대값화 시키고 정수화. 이 과정을 거쳐야 출력했을 때 정상적인 이미지 나옴"
   ]
  },
  {
   "cell_type": "code",
   "execution_count": 42,
   "metadata": {},
   "outputs": [],
   "source": [
    "def LoG():\n",
    "    mask1 = np.array([[-1, -1, -1], [-1, 8, -1], [-1, -1, -1]])\n",
    "    gaussian = cv2.GaussianBlur(img, (7,7), 1.2)\n",
    "    LoG = cv2.filter2D(gaussian2, -1, mask1)\n",
    "    tk_img = ImageTk.PhotoImage(LoG)\n",
    "    canvas.create_image(250,250,image=tk_img)\n",
    "    window.update()"
   ]
  },
  {
   "cell_type": "code",
   "execution_count": 44,
   "metadata": {},
   "outputs": [],
   "source": [
    "window = tk.Tk( )\n",
    "canvas = tk.Canvas(window, width = 500, height = 500)\n",
    "canvas.pack()\n",
    "\n",
    "menubar = tk.Menu(window)\n",
    "filemenu = tk.Menu(window)\n",
    "ipmenu = tk.Menu(window)\n",
    "resmenu = tk.Menu(window)\n",
    "\n",
    "filemenu.add_command(label = \"이미지 가져오기\",command = open)\n",
    "filemenu.add_command(label = \"종료\",command = quit)\n",
    "\n",
    "ipmenu.add_command(label = \"히스토그램 이퀄라이저\", command = equalize_histogram)\n",
    "ipmenu.add_command(label = \"흑백전환\", command = negative)\n",
    "ipmenu.add_command(label = \"Power Law\", command = create_power_law)\n",
    "\n",
    "ipmenu.add_command(label = \"Gaussian Blur\", command = gaussian_blur)\n",
    "ipmenu.add_command(label = \"Median Blur\", command = median_blur)\n",
    "ipmenu.add_command(label = \"Gaussian Blur\", command = gaussian_blur)\n",
    "\n",
    "ipmenu.add_command(label = \"엣지검출 - Canny\", command = canny_edge)\n",
    "ipmenu.add_command(label = \"엣지검출 - Prewitt\", command = Prewitt)\n",
    "ipmenu.add_command(label = \"엣지검출 - Sobel\", command = Sobel)\n",
    "ipmenu.add_command(label = \"엣지검출 - Roberts\", command = Roberts)\n",
    "ipmenu.add_command(label = \"2차 미분 - LoG 필터\", command = LoG)\n",
    "\n",
    "\n",
    "menubar.add_cascade(label = \"파일\", menu = filemenu)\n",
    "menubar.add_cascade(label = \"영상처리\", menu = ipmenu)\n",
    "\n",
    "window.config(menu = menubar)\n",
    "window.mainloop()"
   ]
  },
  {
   "cell_type": "code",
   "execution_count": null,
   "metadata": {},
   "outputs": [],
   "source": []
  }
 ],
 "metadata": {
  "kernelspec": {
   "display_name": "Python 3",
   "language": "python",
   "name": "python3"
  },
  "language_info": {
   "codemirror_mode": {
    "name": "ipython",
    "version": 3
   },
   "file_extension": ".py",
   "mimetype": "text/x-python",
   "name": "python",
   "nbconvert_exporter": "python",
   "pygments_lexer": "ipython3",
   "version": "3.8.5"
  }
 },
 "nbformat": 4,
 "nbformat_minor": 4
}
